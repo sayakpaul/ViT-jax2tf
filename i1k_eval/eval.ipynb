{
 "cells": [
  {
   "cell_type": "code",
   "execution_count": null,
   "id": "cc520ed3-785b-4491-aa40-4346b72a4574",
   "metadata": {},
   "outputs": [],
   "source": [
    "import tensorflow_datasets as tfds\n",
    "import tensorflow_hub as hub\n",
    "import tensorflow as tf\n",
    "\n",
    "from imutils import paths\n",
    "import json"
   ]
  },
  {
   "cell_type": "code",
   "execution_count": null,
   "id": "86454d69-4857-45db-a98f-abc5b1c97e3d",
   "metadata": {},
   "outputs": [],
   "source": [
    "try:\n",
    "    tpu = None\n",
    "    tpu = tf.distribute.cluster_resolver.TPUClusterResolver()\n",
    "    tf.config.experimental_connect_to_cluster(tpu)\n",
    "    tf.tpu.experimental.initialize_tpu_system(tpu)\n",
    "    strategy = tf.distribute.TPUStrategy(tpu)\n",
    "except ValueError:\n",
    "    strategy = tf.distribute.MirroredStrategy()\n",
    "\n",
    "print(\"Number of accelerators: \", strategy.num_replicas_in_sync)"
   ]
  },
  {
   "cell_type": "code",
   "execution_count": null,
   "id": "c3f047d5-e54d-43c2-b19d-0ce5e56e9ff6",
   "metadata": {},
   "outputs": [],
   "source": [
    "AUTO = tf.data.AUTOTUNE\n",
    "BATCH_SIZE = 128 * strategy.num_replicas_in_sync"
   ]
  },
  {
   "cell_type": "code",
   "execution_count": null,
   "id": "c0bbd0fe-08b9-4d6a-ac19-ab1322e20594",
   "metadata": {},
   "outputs": [],
   "source": [
    "with open(\"imagenet_class_index.json\", \"r\") as read_file:\n",
    "    imagenet_labels = json.load(read_file)\n",
    "\n",
    "MAPPING_DICT = {}\n",
    "LABEL_NAMES = {}\n",
    "for label_id in list(imagenet_labels.keys()):\n",
    "    MAPPING_DICT[imagenet_labels[label_id][0]] = int(label_id)\n",
    "    LABEL_NAMES[int(label_id)] = imagenet_labels[label_id][1]"
   ]
  },
  {
   "cell_type": "code",
   "execution_count": null,
   "id": "3c9ad7b4-ce65-42c9-b9f6-b7d9a3e2a030",
   "metadata": {},
   "outputs": [],
   "source": [
    "all_val_paths = list(paths.list_images(\"val\"))\n",
    "all_val_labels = [MAPPING_DICT[x.split(\"/\")[1]] for x in all_val_paths]\n",
    "\n",
    "all_val_paths[:5], all_val_labels[:5]"
   ]
  },
  {
   "cell_type": "code",
   "execution_count": null,
   "id": "3cb2086a-b442-4bd0-8b7d-f717b8816286",
   "metadata": {},
   "outputs": [],
   "source": [
    "def load_and_prepare(path, label):\n",
    "    image = tf.io.read_file(path)\n",
    "    image = tf.image.decode_png(image, channels=3)\n",
    "    image = tf.image.resize(image, (224, 224))\n",
    "\n",
    "    return image, label"
   ]
  },
  {
   "cell_type": "code",
   "execution_count": null,
   "id": "289f1a88-70b1-4a99-9a95-08daf4f38290",
   "metadata": {},
   "outputs": [],
   "source": [
    "dataset = tf.data.Dataset.from_tensor_slices((all_val_paths, all_val_labels))\n",
    "\n",
    "dataset = dataset.map(load_and_prepare, num_parallel_calls=AUTO).batch(BATCH_SIZE)\n",
    "dataset = dataset.prefetch(AUTO)"
   ]
  },
  {
   "cell_type": "code",
   "execution_count": null,
   "id": "14bd0f87-24ce-48cf-b263-e878f260e618",
   "metadata": {},
   "outputs": [],
   "source": [
    "def get_model(model_url=\"https://tfhub.dev/sayakpaul/vit_s16_classification/1\"):\n",
    "    classification_model = tf.keras.Sequential(\n",
    "        [\n",
    "            tf.keras.layers.InputLayer((224, 224, 3)),\n",
    "            tf.keras.layers.Rescaling(\n",
    "                scale=1.0 / 127.5, offset=-1\n",
    "            ),  # Scales to [-1, 1].\n",
    "            hub.KerasLayer(model_url),\n",
    "        ]\n",
    "    )\n",
    "    return classification_model"
   ]
  },
  {
   "cell_type": "code",
   "execution_count": null,
   "id": "d0de72ef-495d-41ae-9875-809101b3c177",
   "metadata": {},
   "outputs": [],
   "source": [
    "def eval_util(model_url, arch):\n",
    "    tb_callback = tf.keras.callbacks.TensorBoard(log_dir=f\"logs_{arch}\")\n",
    "    with strategy.scope():\n",
    "        model = get_model(model_url)\n",
    "    model.compile(metrics=[\"accuracy\"])\n",
    "    model.evaluate(dataset, callbacks=[tb_callback])"
   ]
  },
  {
   "cell_type": "code",
   "execution_count": null,
   "id": "e2287612-8d1a-4131-87cd-5d0798a6b313",
   "metadata": {},
   "outputs": [],
   "source": [
    "model_urls = [\n",
    "    \"https://tfhub.dev/sayakpaul/vit_s16_classification/1\",\n",
    "    \"https://tfhub.dev/sayakpaul/vit_r26_s32_lightaug_classification/1\",\n",
    "]\n",
    "\n",
    "archs = [\"s16\", \"r26_s32\"]\n",
    "\n",
    "for model_url, arch in zip(model_urls, archs):\n",
    "    print(f\"Evaluating {arch}\")\n",
    "    eval_util(model_url, arch)"
   ]
  }
 ],
 "metadata": {
  "environment": {
   "name": "tf2-gpu.2-6.m80",
   "type": "gcloud",
   "uri": "gcr.io/deeplearning-platform-release/tf2-gpu.2-6:m80"
  },
  "kernelspec": {
   "display_name": "Python 3 (ipykernel)",
   "language": "python",
   "name": "python3"
  },
  "language_info": {
   "codemirror_mode": {
    "name": "ipython",
    "version": 3
   },
   "file_extension": ".py",
   "mimetype": "text/x-python",
   "name": "python",
   "nbconvert_exporter": "python",
   "pygments_lexer": "ipython3",
   "version": "3.8.2"
  }
 },
 "nbformat": 4,
 "nbformat_minor": 5
}
